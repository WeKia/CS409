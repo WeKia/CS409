{
 "cells": [
  {
   "cell_type": "code",
   "execution_count": 3,
   "metadata": {},
   "outputs": [],
   "source": [
    "import os\n",
    "import sys\n",
    "sys.path.append('/home/ubuntu/project')\n",
    "os.environ[\"CUDA_VISIBLE_DEVICES\"]=\"0\"\n",
    "import warnings\n",
    "warnings.simplefilter(\"ignore\", UserWarning)\n",
    "import cv2\n",
    "import torch\n",
    "import numpy as np\n",
    "import time\n",
    "\n",
    "from PIL import Image, ImageDraw\n",
    "from utils.get_utube import get_youtube\n",
    "from utils.display import video_display\n",
    "from detectors import DSFD"
   ]
  },
  {
   "cell_type": "code",
   "execution_count": 2,
   "metadata": {},
   "outputs": [],
   "source": [
    "\n",
    "res = ['720p']\n",
    "\n",
    "videos = get_youtube(\"https://www.youtube.com/watch?v=6RLLOEzdxsM\", res)\n"
   ]
  },
  {
   "cell_type": "code",
   "execution_count": 3,
   "metadata": {},
   "outputs": [
    {
     "name": "stdout",
     "output_type": "stream",
     "text": [
      "[DSFD] loading with cuda\n",
      "[DSFD] finished loading (3.3385 sec)\n"
     ]
    }
   ],
   "source": [
    "device = 'cuda' if torch.cuda.is_available() else 'cpu'\n",
    "\n",
    "Net = DSFD(device='cuda')"
   ]
  },
  {
   "cell_type": "code",
   "execution_count": 14,
   "metadata": {},
   "outputs": [
    {
     "name": "stdout",
     "output_type": "stream",
     "text": [
      "360p tracked in 59.92813611199381\n",
      "480p tracked in 87.65584451099858\n",
      "720p tracked in 149.39574370899936\n"
     ]
    }
   ],
   "source": [
    "for j, r in enumerate(res):\n",
    "    frames = videos[j]\n",
    "    \n",
    "    frames_tracked = []\n",
    "    \n",
    "    start = time.monotonic()\n",
    "    \n",
    "    for i, frame in enumerate(frames[1300:2000]):\n",
    "        print(f'Tracking resolution {r} \\r', end=' ')\n",
    "        print('Tracking frame: {}'.format(i + 1), end='\\r')\n",
    "\n",
    "        # Detect faces\n",
    "        boxes = Net.detect_faces(frame, conf_th=0.8,scales=[0.5, 1.0])\n",
    "\n",
    "        # Draw faces\n",
    "        frame_draw = Image.fromarray(frame.copy())\n",
    "        draw = ImageDraw.Draw(frame_draw)\n",
    "        if boxes is not None:\n",
    "            for box in boxes:\n",
    "                draw.rectangle(box[:-1].tolist(), outline=(255, 0, 0), width=6)\n",
    "\n",
    "        # Add to frame list\n",
    "        frames_tracked.append(frame_draw)\n",
    "    \n",
    "    print(f'{r} tracked in {time.monotonic() - start}')\n",
    "\n",
    "    dim = frames_tracked[0].size\n",
    "\n",
    "    # Use vp9 codec and webm format to show video in notebook\n",
    "    # TODO : Why opencv doesn't support h264? -> how can we show video in format mp4\n",
    "    fourcc = cv2.VideoWriter_fourcc(*'VP90')   \n",
    "    video_tracked = cv2.VideoWriter(f'video_tracked_{r}.webm', fourcc, 20.0, dim)\n",
    "    for frame in frames_tracked:\n",
    "        video_tracked.write(cv2.cvtColor(np.array(frame), cv2.COLOR_RGB2BGR))\n",
    "    video_tracked.release()"
   ]
  },
  {
   "cell_type": "code",
   "execution_count": 4,
   "metadata": {},
   "outputs": [
    {
     "data": {
      "text/html": [
       "<video controls>\n",
       "        <source src=video_tracked_720p.webm type=\"video/webm\">\n",
       "        </video>"
      ],
      "text/plain": [
       "<IPython.core.display.HTML object>"
      ]
     },
     "execution_count": 4,
     "metadata": {},
     "output_type": "execute_result"
    }
   ],
   "source": [
    "video_display('video_tracked_720p.webm')"
   ]
  },
  {
   "cell_type": "code",
   "execution_count": null,
   "metadata": {},
   "outputs": [],
   "source": []
  }
 ],
 "metadata": {
  "kernelspec": {
   "display_name": "Python 3",
   "language": "python",
   "name": "python3"
  },
  "language_info": {
   "codemirror_mode": {
    "name": "ipython",
    "version": 3
   },
   "file_extension": ".py",
   "mimetype": "text/x-python",
   "name": "python",
   "nbconvert_exporter": "python",
   "pygments_lexer": "ipython3",
   "version": "3.7.9"
  }
 },
 "nbformat": 4,
 "nbformat_minor": 4
}
