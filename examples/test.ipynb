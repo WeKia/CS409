{
 "metadata": {
  "language_info": {
   "codemirror_mode": {
    "name": "ipython",
    "version": 3
   },
   "file_extension": ".py",
   "mimetype": "text/x-python",
   "name": "python",
   "nbconvert_exporter": "python",
   "pygments_lexer": "ipython3",
   "version": "3.7.0-final"
  },
  "orig_nbformat": 2,
  "kernelspec": {
   "name": "python3",
   "display_name": "Python 3"
  }
 },
 "nbformat": 4,
 "nbformat_minor": 2,
 "cells": [
  {
   "cell_type": "code",
   "execution_count": 4,
   "metadata": {},
   "outputs": [],
   "source": [
    "import os\n",
    "import sys\n",
    "\n",
    "sys.path.append('/home/ubuntu/project')\n",
    "os.environ[\"CUDA_VISIBLE_DEVICES\"]=\"0\"\n",
    "import glob\n",
    "import pandas as pd\n",
    "\n",
    "\n",
    "def trans(time):\n",
    "    min, sec, f = time.split(\":\")\n",
    "\n",
    "    sec = int(sec) + int(min) * 60\n",
    "    \n",
    "    return int(f) + sec * 30\n",
    "\n",
    "#path = ['../data/ground_truth_input3.txt', '../data/ground_truth_input4.txt']\n",
    "path = []\n",
    "\n",
    "for p in path:\n",
    "    f = open(p, 'r')\n",
    "\n",
    "    data = []\n",
    "\n",
    "    while True:\n",
    "        line = f.readline()\n",
    "        if not line: break\n",
    "        \n",
    "        obj, start, end = line.split()\n",
    "\n",
    "        start_frame = trans(start)\n",
    "        end_frame = trans(end)\n",
    "        obj_num = obj.replace('p', '')\n",
    "        data.append(['Object'+obj_num, start_frame, end_frame])\n",
    "    \n",
    "    data = pd.DataFrame(data, columns=['Obj', 'Start', 'End'])\n",
    "    data.to_csv(p.replace('.txt', '.csv'))\n",
    "    print(data)\n",
    "\n",
    "path = ['../data/ground_truth_input3.csv', '../data/ground_truth_input4.csv']\n",
    "\n",
    "for p in path:\n",
    "    csv = pd.read_csv(p)\n",
    "\n",
    "    csv['End'] = csv['End'] - 1\n",
    "\n",
    "    csv.to_csv(p)\n"
   ]
  },
  {
   "cell_type": "code",
   "execution_count": null,
   "metadata": {},
   "outputs": [],
   "source": [
    "\n"
   ]
  }
 ]
}